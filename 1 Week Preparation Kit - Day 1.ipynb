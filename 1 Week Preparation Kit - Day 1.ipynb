{
 "cells": [
  {
   "cell_type": "markdown",
   "id": "336beb86",
   "metadata": {},
   "source": [
    "## HackerRank - Python"
   ]
  },
  {
   "cell_type": "code",
   "execution_count": 1,
   "id": "97bf3137",
   "metadata": {},
   "outputs": [],
   "source": [
    "import math\n",
    "import os\n",
    "import random\n",
    "import re\n",
    "import sys"
   ]
  },
  {
   "cell_type": "markdown",
   "id": "0fc132e7",
   "metadata": {},
   "source": [
    "### Interview Preparation Kits - 1 Week Preparation Kit - DAY1 - Q1\n",
    "Given an array of integers, calculate the ratios of its elements that are positive, negative, and zero. Print the decimal value of each fraction on a new line with  places after the decimal."
   ]
  },
  {
   "cell_type": "code",
   "execution_count": 2,
   "id": "fadcc4ba",
   "metadata": {},
   "outputs": [],
   "source": [
    "def plusMinus(arr):\n",
    "    # Write your code here\n",
    "    positive = []\n",
    "    negative = []\n",
    "    zero_lst = []\n",
    "    for i in arr:\n",
    "        if i == 0:\n",
    "            zero_lst.append(i)\n",
    "        elif i > 0:\n",
    "            positive.append(i)\n",
    "        elif i < 0:\n",
    "            negative.append(i)\n",
    "    pos_ratio = len(positive)/len(arr)\n",
    "    neg_ratio = len(negative)/len(arr)\n",
    "    zero_ratio = len(zero_lst)/len(arr)\n",
    "    \n",
    "    print(pos_ratio)\n",
    "    print(neg_ratio)\n",
    "    print(zero_ratio)       "
   ]
  },
  {
   "cell_type": "code",
   "execution_count": 3,
   "id": "3b496c69",
   "metadata": {},
   "outputs": [],
   "source": [
    "def plusMinus(arr):\n",
    "    # Write your code here    \n",
    "    positive = []\n",
    "    negative = []\n",
    "    zero_lst = []\n",
    "    for i in range(0,len(arr)): #range will always deduct 1, len will add 1\n",
    "        if arr[i] == 0:\n",
    "            zero_lst.append(arr[i])\n",
    "        elif arr[i] > 0:\n",
    "            positive.append(arr[i])\n",
    "        elif arr[i] < 0:\n",
    "            negative.append(arr[i])\n",
    "    pos_ratio = len(positive)/len(arr)\n",
    "    neg_ratio = len(negative)/len(arr)\n",
    "    zero_ratio = len(zero_lst)/len(arr)\n",
    "\n",
    "    print(pos_ratio)\n",
    "    print(neg_ratio)\n",
    "    print(zero_ratio)    "
   ]
  },
  {
   "cell_type": "markdown",
   "id": "a53f4000",
   "metadata": {},
   "source": [
    "### Interview Preparation Kits - 1 Week Preparation Kit - DAY1 - Q2\n",
    "Given five positive integers, find the minimum and maximum values that can be calculated by summing exactly four of the five integers. Then print the respective minimum and maximum values as a single line of two space-separated long integers.\n",
    "<br>\n",
    "<br>\n",
    "combinations('ABCD', 2) -> no repeat elements"
   ]
  },
  {
   "cell_type": "code",
   "execution_count": 8,
   "id": "0443e0f9",
   "metadata": {},
   "outputs": [],
   "source": [
    "from itertools import combinations\n",
    "\n",
    "def miniMaxSum(arr):\n",
    "    comb = list(combinations(arr, 4))\n",
    "    sum_list = []\n",
    "    for i in comb:\n",
    "        a = sum(i)\n",
    "        sum_list.append(a)\n",
    "    max_n = max(sum_list)\n",
    "    min_n = min(sum_list)\n",
    "\n",
    "    print(min_n, max_n)"
   ]
  },
  {
   "cell_type": "markdown",
   "id": "faa2d21b",
   "metadata": {},
   "source": [
    "### Interview Preparation Kits - 1 Week Preparation Kit - DAY1 - Q3\n",
    "Given a time in -hour AM/PM format, convert it to military (24-hour) time.\n",
    "\n",
    "Note: - 12:00:00AM on a 12-hour clock is 00:00:00 on a 24-hour clock.\n",
    "- 12:00:00PM on a 12-hour clock is 12:00:00 on a 24-hour clock."
   ]
  },
  {
   "cell_type": "code",
   "execution_count": 9,
   "id": "23fbe693",
   "metadata": {},
   "outputs": [],
   "source": [
    "a=''\n",
    "def timeConversion(s):\n",
    "    if s[-2:] == \"AM\" :\n",
    "        if s[:2] == '12':\n",
    "            a = str('00' + s[2:8])\n",
    "        else:\n",
    "            a = s[:-2]\n",
    "    else:\n",
    "        if s[:2] == '12':\n",
    "            a = s[:-2]\n",
    "        else:\n",
    "            a = str(int(s[:2]) + 12) + s[2:8]\n",
    "    return a"
   ]
  },
  {
   "cell_type": "code",
   "execution_count": 14,
   "id": "09d3cbb6",
   "metadata": {},
   "outputs": [
    {
     "data": {
      "text/plain": [
       "'19:01:00'"
      ]
     },
     "execution_count": 14,
     "metadata": {},
     "output_type": "execute_result"
    }
   ],
   "source": [
    "s = '07:01:00PM'\n",
    "timeConversion(s)"
   ]
  },
  {
   "cell_type": "markdown",
   "id": "ebe90262",
   "metadata": {},
   "source": [
    "### Interview Preparation Kits - 1 Week Preparation Kit - DAY1 - MOCK\n",
    "\n",
    "Find the median"
   ]
  },
  {
   "cell_type": "code",
   "execution_count": 69,
   "id": "ef1651b2",
   "metadata": {},
   "outputs": [
    {
     "data": {
      "text/plain": [
       "3"
      ]
     },
     "execution_count": 69,
     "metadata": {},
     "output_type": "execute_result"
    }
   ],
   "source": [
    "import statistics\n",
    "arr = [0,1,2,4,6,5,3]\n",
    "\n",
    "def findMedian(arr):\n",
    "    # Write your code here\n",
    "    a = statistics.median(arr)\n",
    "    return a\n",
    "findMedian(arr)"
   ]
  },
  {
   "cell_type": "code",
   "execution_count": 70,
   "id": "fdac7f0c",
   "metadata": {},
   "outputs": [
    {
     "data": {
      "text/plain": [
       "3"
      ]
     },
     "execution_count": 70,
     "metadata": {},
     "output_type": "execute_result"
    }
   ],
   "source": [
    "def findMedian1(arr):    \n",
    "    arr_sort = sorted(arr)\n",
    "    if (len(arr_sort) % 2) == 0: #no residual value = even\n",
    "        med = (arr_sort[int(len(arr_sort)/2) - 1] + arr_sort[int(len(arr_sort)/2)])/2\n",
    "    else:\n",
    "        med = arr_sort[math.floor(len(arr_sort)/2)]\n",
    "\n",
    "    return med\n",
    "findMedian1(arr)"
   ]
  }
 ],
 "metadata": {
  "kernelspec": {
   "display_name": "Python 3 (ipykernel)",
   "language": "python",
   "name": "python3"
  },
  "language_info": {
   "codemirror_mode": {
    "name": "ipython",
    "version": 3
   },
   "file_extension": ".py",
   "mimetype": "text/x-python",
   "name": "python",
   "nbconvert_exporter": "python",
   "pygments_lexer": "ipython3",
   "version": "3.9.7"
  }
 },
 "nbformat": 4,
 "nbformat_minor": 5
}
