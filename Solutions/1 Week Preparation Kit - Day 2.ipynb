{
 "cells": [
  {
   "cell_type": "markdown",
   "id": "b6e7350a",
   "metadata": {},
   "source": [
    "## HackerRank - Python"
   ]
  },
  {
   "cell_type": "code",
   "execution_count": 19,
   "id": "fdca52aa",
   "metadata": {},
   "outputs": [],
   "source": [
    "import math\n",
    "import os\n",
    "import random\n",
    "import re\n",
    "import sys"
   ]
  },
  {
   "cell_type": "markdown",
   "id": "1b786000",
   "metadata": {},
   "source": [
    "### Interview Preparation Kits - 1 Week Preparation Kit - DAY2 - Q1\n",
    "\n",
    "Given an array of integers, where all elements but one occur twice, find the unique element."
   ]
  },
  {
   "cell_type": "code",
   "execution_count": 18,
   "id": "05708ce4",
   "metadata": {},
   "outputs": [
    {
     "data": {
      "text/plain": [
       "4"
      ]
     },
     "execution_count": 18,
     "metadata": {},
     "output_type": "execute_result"
    }
   ],
   "source": [
    "from collections import Counter\n",
    "\n",
    "a = [1,2,3,4,3,2,1]\n",
    "def lonelyinteger(a):\n",
    "    # Write your code here\n",
    "    mydict = Counter(a)\n",
    "    unique = list(mydict.keys())[list(mydict.values()).index(1)]\n",
    "    return unique\n",
    "lonelyinteger(a)"
   ]
  },
  {
   "cell_type": "markdown",
   "id": "f8137faa",
   "metadata": {},
   "source": [
    "### Interview Preparation Kits - 1 Week Preparation Kit - DAY2 - Q2\n",
    "Given a square matrix, calculate the absolute difference between the sums of its diagonals."
   ]
  },
  {
   "cell_type": "code",
   "execution_count": 38,
   "id": "ee74b337",
   "metadata": {},
   "outputs": [],
   "source": [
    "arr = [[1,2,3],\n",
    "         [4,5,6],\n",
    "         [9,8,9]]"
   ]
  },
  {
   "cell_type": "code",
   "execution_count": 39,
   "id": "761c7e44",
   "metadata": {},
   "outputs": [
    {
     "data": {
      "text/plain": [
       "2"
      ]
     },
     "execution_count": 39,
     "metadata": {},
     "output_type": "execute_result"
    }
   ],
   "source": [
    "def diagonalDifference(arr):\n",
    "    # Write your code here\n",
    "    diag1 = []\n",
    "    for i in range(0,len(arr)):\n",
    "        for j in range(0,len(arr)):\n",
    "            if i == j:\n",
    "                diag1.append(arr[i][j])\n",
    "            else: None\n",
    "    diag1_sum = sum(diag1)\n",
    "    \n",
    "    diag2 = []\n",
    "    len_tot = len(arr)\n",
    "    for i in range(0,len(arr)):\n",
    "        for j in range(0,len(arr)):\n",
    "            if j == len_tot-1:\n",
    "                len_tot = len_tot -1\n",
    "                diag2.append(arr[i][j])\n",
    "    diag2_sum = sum(diag2)\n",
    "    abs_diff = abs(diag1_sum - diag2_sum)\n",
    "    return abs_diff\n",
    "diagonalDifference(arr)"
   ]
  },
  {
   "cell_type": "markdown",
   "id": "5047e8fd",
   "metadata": {},
   "source": [
    "### Interview Preparation Kits - 1 Week Preparation Kit - DAY2 - Q3\n",
    "Comparison Sorting\n",
    "Quicksort usually has a running time of , but is there an algorithm that can sort even faster? In general, this is not possible. Most sorting algorithms are comparison sorts, i.e. they sort a list just by comparing the elements to one another. A comparison sort algorithm cannot beat  (worst-case) running time, since  represents the minimum number of comparisons needed to know where to place each element. For more details, you can see these notes (PDF)."
   ]
  },
  {
   "cell_type": "code",
   "execution_count": 52,
   "id": "32138114",
   "metadata": {},
   "outputs": [
    {
     "data": {
      "text/plain": [
       "[1, 1, 1, 2, 3]"
      ]
     },
     "execution_count": 52,
     "metadata": {},
     "output_type": "execute_result"
    }
   ],
   "source": [
    "arr = [1,1,3,2,1] \n",
    "\n",
    "#return unique value in a list\n",
    "unique_value = set(arr)\n",
    "unique_value = list(unique_value)\n",
    "\n",
    "#zeros from 0 to len(unique_value)\n",
    "# result = []\n",
    "# for i in range(0,len(unique_value)+1):\n",
    "#     result.append(0)\n",
    "# result\n",
    "\n",
    "#always return a frequency array with 100 elements\n",
    "result = []\n",
    "for i in range(0,100):\n",
    "    result.append(0)\n",
    "result\n",
    "\n",
    "#arr[i] -> i = index of results\n",
    "for i in range(0, len(arr)):\n",
    "    result[arr[i]] = result[arr[i]] + 1 #index position \n",
    "\n",
    "#sort\n",
    "sorted_list = []\n",
    "for i in range(0,len(result)):\n",
    "    while result[i] != 0:\n",
    "        sorted_list.append(i)\n",
    "        result[i] = result[i] - 1\n",
    "sorted_list        "
   ]
  },
  {
   "cell_type": "code",
   "execution_count": 67,
   "id": "ce85f1e7",
   "metadata": {},
   "outputs": [
    {
     "data": {
      "text/plain": [
       "[0,\n",
       " 3,\n",
       " 1,\n",
       " 1,\n",
       " 0,\n",
       " 0,\n",
       " 0,\n",
       " 0,\n",
       " 0,\n",
       " 0,\n",
       " 0,\n",
       " 0,\n",
       " 0,\n",
       " 0,\n",
       " 0,\n",
       " 0,\n",
       " 0,\n",
       " 0,\n",
       " 0,\n",
       " 0,\n",
       " 0,\n",
       " 0,\n",
       " 0,\n",
       " 0,\n",
       " 0,\n",
       " 0,\n",
       " 0,\n",
       " 0,\n",
       " 0,\n",
       " 0,\n",
       " 0,\n",
       " 0,\n",
       " 0,\n",
       " 0,\n",
       " 0,\n",
       " 0,\n",
       " 0,\n",
       " 0,\n",
       " 0,\n",
       " 0,\n",
       " 0,\n",
       " 0,\n",
       " 0,\n",
       " 0,\n",
       " 0,\n",
       " 0,\n",
       " 0,\n",
       " 0,\n",
       " 0,\n",
       " 0,\n",
       " 0,\n",
       " 0,\n",
       " 0,\n",
       " 0,\n",
       " 0,\n",
       " 0,\n",
       " 0,\n",
       " 0,\n",
       " 0,\n",
       " 0,\n",
       " 0,\n",
       " 0,\n",
       " 0,\n",
       " 0,\n",
       " 0,\n",
       " 0,\n",
       " 0,\n",
       " 0,\n",
       " 0,\n",
       " 0,\n",
       " 0,\n",
       " 0,\n",
       " 0,\n",
       " 0,\n",
       " 0,\n",
       " 0,\n",
       " 0,\n",
       " 0,\n",
       " 0,\n",
       " 0,\n",
       " 0,\n",
       " 0,\n",
       " 0,\n",
       " 0,\n",
       " 0,\n",
       " 0,\n",
       " 0,\n",
       " 0,\n",
       " 0,\n",
       " 0,\n",
       " 0,\n",
       " 0,\n",
       " 0,\n",
       " 0,\n",
       " 0,\n",
       " 0,\n",
       " 0,\n",
       " 0,\n",
       " 0,\n",
       " 0]"
      ]
     },
     "execution_count": 67,
     "metadata": {},
     "output_type": "execute_result"
    }
   ],
   "source": [
    "arr = [1,1,3,2,1] \n",
    "def countingSort(arr):\n",
    "    # Write your code here\n",
    "    unique_value = list(set(arr))\n",
    "    \n",
    "    #result:  a frequency array with 100 elements\n",
    "    result = []\n",
    "    for i in range(0,100):\n",
    "        result.append(0)\n",
    "    \n",
    "    #frequency array using index arr[i] = index of result\n",
    "    for i in range(0, len(arr)):\n",
    "        result[arr[i]] = result[arr[i]] + 1\n",
    "    \n",
    "    return result\n",
    "    #sorted list\n",
    "#     sorted_list = []\n",
    "#     for i in range(0,len(result)):\n",
    "#         while result[i] != 0:\n",
    "#             sorted_list.append(i)\n",
    "#             result[i] = result[i] - 1\n",
    "    \n",
    "countingSort(arr)"
   ]
  },
  {
   "cell_type": "markdown",
   "id": "d2c40c9a",
   "metadata": {},
   "source": [
    "### Interview Preparation Kits - 1 Week Preparation Kit - DAY2 - MOCK TEST\n",
    "Flipping the Matrix"
   ]
  },
  {
   "cell_type": "code",
   "execution_count": 137,
   "id": "69c47b1e",
   "metadata": {},
   "outputs": [],
   "source": [
    "matrix = [[112,42,83,119],\n",
    "         [56, 125, 56, 49],\n",
    "         [15, 78, 101, 43],\n",
    "         [62, 98, 114, 108]]\n",
    "import numpy as np"
   ]
  },
  {
   "cell_type": "code",
   "execution_count": 138,
   "id": "d025bbe3",
   "metadata": {},
   "outputs": [
    {
     "data": {
      "text/plain": [
       "414"
      ]
     },
     "execution_count": 138,
     "metadata": {},
     "output_type": "execute_result"
    }
   ],
   "source": [
    "def flippingMatrix(matrix):\n",
    "    n = len(matrix)\n",
    "    s = 0\n",
    "    for i in range(n//2): #2\n",
    "        for j in range(n//2):\n",
    "            s += max(matrix[i][j], matrix[i][n-j-1], matrix[n-i-1][j], matrix[n-i-1][n-j-1])\n",
    "    return s\n",
    "flippingMatrix(matrix)"
   ]
  },
  {
   "cell_type": "code",
   "execution_count": null,
   "id": "ffd60b9d",
   "metadata": {},
   "outputs": [],
   "source": []
  },
  {
   "cell_type": "code",
   "execution_count": null,
   "id": "6841bf70",
   "metadata": {},
   "outputs": [],
   "source": []
  },
  {
   "cell_type": "code",
   "execution_count": null,
   "id": "8cd19537",
   "metadata": {},
   "outputs": [],
   "source": []
  },
  {
   "cell_type": "code",
   "execution_count": null,
   "id": "a05ae496",
   "metadata": {},
   "outputs": [],
   "source": []
  },
  {
   "cell_type": "code",
   "execution_count": null,
   "id": "2a5114ad",
   "metadata": {},
   "outputs": [],
   "source": []
  },
  {
   "cell_type": "code",
   "execution_count": null,
   "id": "fb550bac",
   "metadata": {},
   "outputs": [],
   "source": []
  },
  {
   "cell_type": "code",
   "execution_count": null,
   "id": "e53b1abe",
   "metadata": {},
   "outputs": [],
   "source": []
  },
  {
   "cell_type": "code",
   "execution_count": null,
   "id": "c10d4b59",
   "metadata": {},
   "outputs": [],
   "source": []
  },
  {
   "cell_type": "code",
   "execution_count": null,
   "id": "b3666c5c",
   "metadata": {},
   "outputs": [],
   "source": []
  },
  {
   "cell_type": "code",
   "execution_count": null,
   "id": "d2e4daf5",
   "metadata": {},
   "outputs": [],
   "source": []
  },
  {
   "cell_type": "code",
   "execution_count": null,
   "id": "b2c29269",
   "metadata": {},
   "outputs": [],
   "source": []
  },
  {
   "cell_type": "code",
   "execution_count": null,
   "id": "6759a4d4",
   "metadata": {},
   "outputs": [],
   "source": []
  }
 ],
 "metadata": {
  "kernelspec": {
   "display_name": "Python 3 (ipykernel)",
   "language": "python",
   "name": "python3"
  },
  "language_info": {
   "codemirror_mode": {
    "name": "ipython",
    "version": 3
   },
   "file_extension": ".py",
   "mimetype": "text/x-python",
   "name": "python",
   "nbconvert_exporter": "python",
   "pygments_lexer": "ipython3",
   "version": "3.9.7"
  }
 },
 "nbformat": 4,
 "nbformat_minor": 5
}
